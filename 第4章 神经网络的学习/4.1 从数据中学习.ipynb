{
 "cells": [
  {
   "cell_type": "markdown",
   "metadata": {},
   "source": [
    "# 4.1 从数据中学习\n",
    "> 从数据中学习：是指可以由数据自动决定权重参数的值"
   ]
  },
  {
   "cell_type": "markdown",
   "metadata": {},
   "source": [
    "## 4.1.1 数据驱动\n",
    "\n",
    "实现识别算法的一种方案：\n",
    "- 1.从图像中提取**特征量**\n",
    "> **特征量**：从输入数据（输入图像）中准确提取本质数据（重要数据）的**转换器**，图像的特征量通常表示为**向量**形式\n",
    "- 2.利用机器学习技术学习特征量\n",
    "\n",
    "---\n",
    "将图像转换为向量时使用的特征量仍是人设计的，不同的场景，特征量是不一样的。\n",
    "\n",
    "---\n",
    "神经网络的优点是：对所有的问题都可以用同样的流程来解决"
   ]
  },
  {
   "cell_type": "markdown",
   "metadata": {},
   "source": [
    "## 4.1.2 训练数据和测试数据\n",
    "\n",
    "- 训练数据：进行学习，寻找最优参数\n",
    "- 测试数据：评价训练模型的实际能力"
   ]
  },
  {
   "cell_type": "code",
   "execution_count": null,
   "metadata": {},
   "outputs": [],
   "source": []
  }
 ],
 "metadata": {
  "kernelspec": {
   "display_name": "Python 3",
   "language": "python",
   "name": "python3"
  },
  "language_info": {
   "codemirror_mode": {
    "name": "ipython",
    "version": 3
   },
   "file_extension": ".py",
   "mimetype": "text/x-python",
   "name": "python",
   "nbconvert_exporter": "python",
   "pygments_lexer": "ipython3",
   "version": "3.7.1"
  }
 },
 "nbformat": 4,
 "nbformat_minor": 2
}
