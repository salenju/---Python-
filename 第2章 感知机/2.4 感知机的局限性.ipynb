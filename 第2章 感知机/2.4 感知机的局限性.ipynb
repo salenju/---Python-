{
 "cells": [
  {
   "cell_type": "markdown",
   "metadata": {},
   "source": [
    "# 感知机的局限性\n",
    "\n",
    "- **只能表示由一条直线分割的空间（线性空间），不能表示由曲线分割的空间（非线性空间）**\n",
    "- 无法实现异或门（XOR gate）——当且仅当x1或x2中的一个为1时，y才输出1\n"
   ]
  },
  {
   "cell_type": "code",
   "execution_count": null,
   "metadata": {},
   "outputs": [],
   "source": []
  }
 ],
 "metadata": {
  "kernelspec": {
   "display_name": "Python 3",
   "language": "python",
   "name": "python3"
  },
  "language_info": {
   "codemirror_mode": {
    "name": "ipython",
    "version": 3
   },
   "file_extension": ".py",
   "mimetype": "text/x-python",
   "name": "python",
   "nbconvert_exporter": "python",
   "pygments_lexer": "ipython3",
   "version": "3.7.1"
  }
 },
 "nbformat": 4,
 "nbformat_minor": 2
}
