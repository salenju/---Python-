{
 "cells": [
  {
   "cell_type": "markdown",
   "metadata": {},
   "source": [
    "# 简单的逻辑电路"
   ]
  },
  {
   "cell_type": "markdown",
   "metadata": {},
   "source": [
    "## 2.2.1 与门（AND gate）\n",
    "\n",
    "输入：x1, x2\n",
    "\n",
    "输出：y\n",
    "\n",
    "当且仅当x1, x2同为（True / 1）时，y才输出1(True)"
   ]
  },
  {
   "cell_type": "markdown",
   "metadata": {},
   "source": [
    "## 2.2.2 与非门和或门\n",
    "\n",
    "### 与非门（NAND gate）\n",
    "**与非门就是颠倒与门的输出**\n",
    "\n",
    "输入：x1, x2\n",
    "\n",
    "输出：y\n",
    "\n",
    "当且仅当x1, x2同为0时，y才输出为1，其他时候均输出0\n",
    "\n",
    "### 或门\n",
    "输入：x1, x2\n",
    "\n",
    "输出：y\n",
    "\n",
    "当且仅当x1, x2同为0时，y才输出为0，其他时候均输出1\n"
   ]
  },
  {
   "cell_type": "markdown",
   "metadata": {},
   "source": []
  },
  {
   "cell_type": "code",
   "execution_count": null,
   "metadata": {},
   "outputs": [],
   "source": []
  }
 ],
 "metadata": {
  "kernelspec": {
   "display_name": "Python 3",
   "language": "python",
   "name": "python3"
  },
  "language_info": {
   "codemirror_mode": {
    "name": "ipython",
    "version": 3
   },
   "file_extension": ".py",
   "mimetype": "text/x-python",
   "name": "python",
   "nbconvert_exporter": "python",
   "pygments_lexer": "ipython3",
   "version": "3.7.1"
  }
 },
 "nbformat": 4,
 "nbformat_minor": 2
}
